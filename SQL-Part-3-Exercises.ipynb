{
    "cells": [
        {
            "cell_type": "markdown",
            "metadata": {
                "azdata_cell_guid": "c739e118-2a3a-45f9-bd51-090c836e7a7e"
            },
            "source": [
                "# SQL Part 3 Exercises: Joins\n",
                "\n",
                "This notebook works with `BooksDB`.\n",
                "\n",
                "**Questions 1-4** focus on how joins work in a more general sense.  If you are not sure how to best answer the questions, try manipulating the queries by changing the order of joins, the length of the TOP, or how they are ordered.\n",
                "\n",
                "Note: If some of the queries are not returning quickly, you can try closing and restarting Visual Studio Code after a few minutes.\n",
                "\n",
                "In **questions 5-8**, you will be asked to join tables to find results about titles, tags, and the books users want to read.\n",
                "\n",
                "As you go through the questions, you will see 'Minimum Desired Output'.  This will provide you with the bare minimum columns needed to answer the questions.  When you write the queries, add as many additional columns as you need to best find your answers."
            ]
        },
        {
            "cell_type": "markdown",
            "metadata": {
                "azdata_cell_guid": "cdfaf133-068f-496d-8ecb-ecfde5c8d9f5"
            },
            "source": [
                "## QUESTION 1:  Exploring a `LEFT JOIN` using the `books` and `to_read` tables\n",
                "\n",
                "The code block below has been commented out. To answer this question, you will need to uncomment it by removing the `/*` (line 1) and `*/` (line 16).\n",
                "\n",
                "**Part A:** Look at Query 1, which table is the 'Left' table and which is the 'Right'?\n",
                "\n",
                "> Your Answer: The Left table is books, while the Right table is to_read\n",
                "\n",
                "**Part B:** Using table 2, answer the following questions: \n",
                "- When we added a `WHERE tr.user_id IS NOT NULL` clause (line 14), how did the table change?  Why?\n",
                "\n",
                "> Your Answer:This changed the table so that there are no NULL results. If no one cared about the book, it isnt represented in this."
            ]
        },
        {
            "cell_type": "code",
            "execution_count": null,
            "metadata": {
                "azdata_cell_guid": "a2038d22-5f42-4539-af89-d1fd36c66d47",
                "language": "sql"
            },
            "outputs": [],
            "source": [
                "/*\n",
                "-- Query 1: LEFT JOIN\n",
                "SELECT TOP 50 b.title, b.average_rating, b.books_count,tr.user_id, tr.book_id\n",
                "FROM BooksDB.dbo.books AS b\n",
                "LEFT JOIN BooksDB.dbo.to_read AS tr\n",
                "ON b.best_book_id = tr.book_id\n",
                "ORDER BY b.average_rating;\n",
                "\n",
                "-- Query 2: LEFT JOIN USING 'IS NOT NULL'\n",
                "SELECT TOP 50 b.title, b.average_rating, b.books_count,tr.user_id, tr.book_id\n",
                "FROM BooksDB.dbo.books AS b\n",
                "LEFT JOIN BooksDB.dbo.to_read AS tr\n",
                "ON b.best_book_id = tr.book_id\n",
                "WHERE tr.user_id IS NOT NULL\n",
                "ORDER BY b.average_rating;\n",
                "*/"
            ]
        },
        {
            "cell_type": "markdown",
            "metadata": {
                "azdata_cell_guid": "e5b293e1-3c99-4696-93db-71e77df50757"
            },
            "source": [
                "## **QUESTION 2:** Exploring `RIGHT` joins with the `books` and `to_read` tables\n",
                "\n",
                "You will need to uncomment the query to answer the question.\n",
                "\n",
                "**Part A:** Looking at the query, which table is the 'Left' and which is the 'Right'?\n",
                "\n",
                "> Your Answer: Books is now the right table and to-read is the left.\n",
                "\n",
                "**Part B:** How do the RIGHT-joined tables differ from the LEFT-joined tables in Question 1?\n",
                "\n",
                "> Your Answer: The  Left Join answers “What do we have, and is anyone interested?” while the Right Join answers “What are they interested in, do we have it?”"
            ]
        },
        {
            "cell_type": "code",
            "execution_count": null,
            "metadata": {
                "azdata_cell_guid": "3916ff86-e45b-47d3-ae94-c1ee7903c7b9",
                "language": "sql"
            },
            "outputs": [],
            "source": [
                "/*\n",
                "-- Query 1: RIGHT JOIN\n",
                "SELECT TOP 300 b.title, b.average_rating, b.books_count, tr.user_id, tr.book_id\n",
                "FROM BooksDB.dbo.books AS b\n",
                "RIGHT JOIN BooksDB.dbo.to_read AS tr\n",
                "ON b.best_book_id = tr.book_id;\n",
                "*/"
            ]
        },
        {
            "cell_type": "markdown",
            "metadata": {
                "azdata_cell_guid": "db92a0de-8cbe-47b2-a989-c77138c427fd"
            },
            "source": [
                "## **QUESTION 3:** Exploring FULL JOINS with the `books` and `to_read` tables\n",
                "\n",
                "You will need to uncomment the Query to answer the question.\n",
                "\n",
                "**Part A:**  Look at the table and explore how it was populated.  Try manipulating the query to better understand how this table works.  Try adding a WHERE clause, or ORDER BY a column on the `books` table.  Based on your exploration, can you think of when you might want a FULL join rather than a LEFT, RIGHT, or INNER?\n",
                "\n",
                "> Your Answer: You use a Full Join when you want to see everything, every book and every to read entry, even if they do not match. It shows all books even ones no one added to a list and all to-read entries even on ones that do not have a matching book. It gives you the complete picture of the data.\n"
            ]
        },
        {
            "cell_type": "code",
            "execution_count": null,
            "metadata": {
                "azdata_cell_guid": "421beb17-491d-4d0b-9a83-4383e9a878f6",
                "language": "sql"
            },
            "outputs": [],
            "source": [
                "/*\n",
                "-- FULL JOIN\n",
                "SELECT TOP 30 b.title, b.average_rating, b.books_count,tr.user_id, tr.book_id\n",
                "FROM BooksDB.dbo.books AS b\n",
                "FULL JOIN BooksDB.dbo.to_read AS tr\n",
                "ON b.book_id = tr.book_id;\n",
                "*/"
            ]
        },
        {
            "cell_type": "markdown",
            "metadata": {
                "azdata_cell_guid": "c9219b58-ba70-4f18-b40d-5a959f50ec10"
            },
            "source": [
                "## **QUESTION 4:** Exploring INNER Joins with the `books` and `to_read` tables\n",
                "\n",
                "You will need to uncomment the Query to answer the question.\n",
                "\n",
                "**Part A:**  What does an inner join do?\n",
                "\n",
                "> Your Answer: An inner join only shows rows that have a match in both tables. If a record in one table does not connect to anything in the other, it is left out completely\n",
                "\n",
                "**Part B:** Currently this table has an `'IS NOT NULL'` in the `WHERE` clause. Is this necessary for this table? Why or Why not?\n",
                "\n",
                "> Your Answer: No, the IS NOT NULL clause is not necessary for an inner join. An inner join already removes any rows that do not match in both tables\n",
                "\n",
                "**Part C:**  When using SQL, you are usually returning much larger tables so every line of code will add to the compilation and return time.  Rewrite this inner join query so that it contains no redundant code.\n",
                "\n",
                "> Your Answer:  Update the query in the code box below."
            ]
        },
        {
            "cell_type": "code",
            "execution_count": null,
            "metadata": {
                "azdata_cell_guid": "6ee6b18f-d81b-46b8-857b-95e2e88bd1fd",
                "language": "sql"
            },
            "outputs": [],
            "source": [
                "SELECT TOP 30 \n",
                "    b.title, \n",
                "    b.average_rating, \n",
                "    b.books_count,\n",
                "    tr.user_id, \n",
                "    tr.book_id\n",
                "FROM BooksDB.dbo.books             AS b\n",
                "INNER JOIN BooksDB.dbo.to_read     AS tr       ON b.book_id = tr.book_id\n",
                "ORDER BY tr.book_id;\n",
                "--Sample Output:\n",
                "Harry Potter and the Half-Blood Prince (Harry Potter, #6)\t4.54\t275\t12\t1\n",
                "Harry Potter and the Half-Blood Prince (Harry Potter, #6)\t4.54\t275\t192\t1\n",
                "Harry Potter and the Half-Blood Prince (Harry Potter, #6)\t4.54\t275\t202\t1\n",
                "Harry Potter and the Half-Blood Prince (Harry Potter, #6)\t4.54\t275\t244\t1\n",
                "Harry Potter and the Half-Blood Prince (Harry Potter, #6)\t4.54\t275\t253\t1"
            ]
        },
        {
            "cell_type": "markdown",
            "metadata": {
                "azdata_cell_guid": "6c20039d-2496-42c6-b5fc-db8f1ded0ce4"
            },
            "source": [
                "## **QUESTION 5:**  Using joins to find the most tagged book and the most popular tag\n",
                "\n",
                "We will be writing 3 queries to find both the most tagged book and that book's most popular tag.\n",
                "\n",
                "**Part A:**  What is the most tagged book?\n",
                "SELECT TOP 1\n",
                "    b.title,\n",
                "    COUNT(bt.tag_id) AS total_tags\n",
                "FROM BooksDB.dbo.books AS b\n",
                "INNER JOIN BooksDB.dbo.book_tags AS bt\n",
                "    ON b.best_book_id = bt.goodreads_book_id\n",
                "GROUP BY b.title\n",
                "ORDER BY total_tags DESC;\n",
                "\n",
                "\n",
                "Result:\n",
                "Selected Poems | 400\n",
                "\n",
                "\n",
                "\n",
                "**Part B:** Find the Most Popular Tag ID for That Book\n",
                "\n",
                "SELECT TOP 1\n",
                "    bt.tag_id,\n",
                "    SUM(bt.count) AS total_usage\n",
                "FROM BooksDB.dbo.book_tags AS bt\n",
                "INNER JOIN BooksDB.dbo.books AS b\n",
                "    ON b.best_book_id = bt.goodreads_book_id\n",
                "WHERE b.title = 'Selected Poems'\n",
                "GROUP BY bt.tag_id\n",
                "ORDER BY total_usage DESC;\n",
                "\n",
                "**Tag Id: 5207**\n",
                "\n",
                "**Part C:Books I own** Part C – Find the Tag Name\n",
                "\n",
                "SELECT tag_name\n",
                "FROM BooksDB.dbo.tags\n",
                "WHERE tag_id = 5207;\n",
                "*Minimum Desired Output:* The tag name for the most popular tag used for the most tagged book.\n",
                "\n",
                "**Tag Name:Books I own**"
            ]
        },
        {
            "cell_type": "code",
            "execution_count": null,
            "metadata": {
                "azdata_cell_guid": "c1d7f859-cf56-424e-bd90-0203ab5a1cdd",
                "language": "sql"
            },
            "outputs": [],
            "source": []
        },
        {
            "cell_type": "markdown",
            "metadata": {
                "azdata_cell_guid": "0afe0108-c632-4cde-b7e0-5e699c066e03"
            },
            "source": [
                "## QUESTION 6: Find a book based on a tag of your choice using joins.\n",
                "\n",
                "Some suggestions: any hobbies you like? baking, drawing, etc. how about favorite holidays, subjects, animals, etc?\n",
                "\n",
                "**Part A:** Explore the tags table for a tag of your choice.  Suggested ideas, try searching for one of your hobbies, a favorite time of year, favorite animal, etc.  Start by querying the tag table for your chosen tag.  (_Hint:_ in order to make sure you find all combinations of your tags, use the wildcard).  If your query returns more than one result, pick your favorite.\n",
                "\n",
                "SELECT \n",
                "    tag_id,\n",
                "    tag_name\n",
                "FROM BooksDB.dbo.tags\n",
                "WHERE tag_name LIKE '%running%';\n",
                "\n",
                "**Your Tag and Tag Id:5324 Books-on-Running**\n",
                "\n",
                "**Part B:** Now that you have the tag id, find the title that was tagged the most with this tag by joining the `books` and `books_tags` tables.\n",
                "\n",
                "SELECT TOP 1\n",
                "    b.title,\n",
                "    SUM(bt.count) AS tag_count\n",
                "FROM BooksDB.dbo.books AS b\n",
                "INNER JOIN BooksDB.dbo.book_tags AS bt\n",
                "    ON b.best_book_id = bt.goodreads_book_id\n",
                "WHERE bt.tag_id = 5324\n",
                "GROUP BY b.title\n",
                "ORDER BY tag_count DESC;\n",
                "\n",
                "*Minimum Desired Output: Once a Runner - tag count 1* title and tag count\n",
                "\n",
                "**Once a Runner -- tag count 1**"
            ]
        },
        {
            "cell_type": "markdown",
            "metadata": {
                "azdata_cell_guid": "d684cef6-783d-43d1-a017-f5e5d83c46da"
            },
            "source": [
                "## **QUESTION 7:** What are the top 10 most popular book titles on the 'to read' list?\n",
                "\n",
                "**Part A:**  Explore how the `to_read` and `books` tables are organized, and then join them.  What will you use as a key?\n",
                "SELECT TOP 10\n",
                "    b.title,\n",
                "    tr.user_id\n",
                "FROM BooksDB.dbo.books AS b\n",
                "INNER JOIN BooksDB.dbo.to_read AS tr\n",
                "    ON b.best_book_id = tr.book_id;\n",
                "\n",
                "\n",
                "Your Answer: INNER Join - b.best_book_id = tr.book_id\n",
                "\n",
                "**Part B:** Organize your newly joined table in a way that groups popularity based on the title based on users.\n",
                "SELECT TOP 10\n",
                "    b.title,\n",
                "    COUNT(tr.user_id) AS total_users\n",
                "FROM BooksDB.dbo.books AS b\n",
                "INNER JOIN BooksDB.dbo.to_read AS tr\n",
                "    ON b.best_book_id = tr.book_id\n",
                "GROUP BY b.title\n",
                "ORDER BY total_users DESC;\n",
                "\n",
                "--Sample Output:\n",
                "Title                                          total users\n",
                "The Ultimate Hitchhiker's Guide to the Galaxy\t1812\n",
                "The Lord of the Rings: The Art of The Fellowship of the Ring\t1499\n",
                "Harry Potter Boxed Set, Books 1-5 (Harry Potter, #1-5)\t1498\n",
                "Harry Potter and the Goblet of Fire (Harry Potter, #4)\t1484\n",
                "The Known World\t1352\n",
                "*Minimum Desired Output:* title and aliased column"
            ]
        },
        {
            "cell_type": "code",
            "execution_count": null,
            "metadata": {
                "azdata_cell_guid": "3247ef18-3603-47b0-b2a1-0b6a70e8de33",
                "language": "sql"
            },
            "outputs": [],
            "source": []
        },
        {
            "cell_type": "markdown",
            "metadata": {
                "azdata_cell_guid": "d7f2f6a3-ecc3-4629-aacd-312723da07af"
            },
            "source": [
                "## **QUESTION 8:** Largest 'To Read' Lists\n",
                "\n",
                "**Part A:**  Create a query that returns a table that contains the top 10 users with the most number of titles on their 'to read' list.    Group all the entries by `user_id`.\n",
                "\n",
                "SELECT TOP 10 \n",
                "    tr.user_id, \n",
                "    COUNT(tr.book_id) AS total_titles\n",
                "FROM BooksDB.dbo.to_read AS tr\n",
                "GROUP BY tr.user_id\n",
                "ORDER BY total_titles DESC;\n",
                "\n",
                "38457\t117\n",
                "28259\t114\n",
                "38076\t110\n",
                "44530\t108\n",
                "46555\t107\n",
                "46000\t107\n",
                "34162\t105\n",
                "34487\t104\n",
                "39174\t103\n",
                "47363\t102\n",
                "\n",
                "\n",
                "_Minimum Desired Output:_ `user_id` and your aliased column of titles.\n",
                "\n",
                "**Part B:**  The longest list length is 15 titles total, and is shared by 4 different users.  Select one of the uses and print out their entire 'to read' list.\n",
                "\n",
                "SELECT *\n",
                "FROM BooksDB.dbo.to_read\n",
                "WHERE user_id = 44062;\n",
                "\n",
                "44062\t100\n",
                "44062\t333\n",
                "44062\t658\n",
                "44062\t883\n",
                "44062\t1055\n",
                "44062\t1114"
            ]
        }
    ],
    "metadata": {
        "kernelspec": {
            "display_name": "SQL",
            "language": "sql",
            "name": "SQL"
        },
        "language_info": {
            "name": "sql",
            "version": ""
        }
    },
    "nbformat": 4,
    "nbformat_minor": 2
}
